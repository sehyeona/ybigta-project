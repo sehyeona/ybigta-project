{
 "cells": [
  {
   "cell_type": "code",
   "execution_count": 29,
   "metadata": {},
   "outputs": [],
   "source": [
    "import warnings\n",
    "warnings.filterwarnings(\"ignore\")"
   ]
  },
  {
   "cell_type": "code",
   "execution_count": 30,
   "metadata": {},
   "outputs": [
    {
     "name": "stdout",
     "output_type": "stream",
     "text": [
      "/root/anaconda3/bin/python\n"
     ]
    }
   ],
   "source": [
    "import pandas as pd\n",
    "import numpy as np\n",
    "import sys\n",
    "print(sys.executable)\n",
    "from numpy.core.umath_tests import inner1d"
   ]
  },
  {
   "cell_type": "code",
   "execution_count": 31,
   "metadata": {},
   "outputs": [],
   "source": [
    "train = pd.read_csv('./data2/ybigta_sdss_train.csv',)\n",
    "test = pd.read_csv('./data2/ybigta_sdss_test.csv',)\n",
    "sample_submission = pd.read_csv('data2/ybigta_sdss_sample_submission.csv', index_col=0)"
   ]
  },
  {
   "cell_type": "code",
   "execution_count": 32,
   "metadata": {},
   "outputs": [],
   "source": [
    "column_number = {}\n",
    "for i, column in enumerate(sample_submission.columns):\n",
    "    column_number[column] = i\n",
    "    \n",
    "def to_number(x, dic):\n",
    "    return dic[x]\n",
    "\n",
    "train['type_num'] = train['type'].apply(lambda x: to_number(x, column_number))"
   ]
  },
  {
   "cell_type": "code",
   "execution_count": 33,
   "metadata": {
    "scrolled": true
   },
   "outputs": [
    {
     "name": "stdout",
     "output_type": "stream",
     "text": [
      "<class 'pandas.core.frame.DataFrame'>\n",
      "RangeIndex: 171965 entries, 0 to 171964\n",
      "Data columns (total 20 columns):\n",
      "fiberID       171965 non-null int64\n",
      "psfMag_u      171965 non-null float64\n",
      "psfMag_g      171965 non-null float64\n",
      "psfMag_r      171965 non-null float64\n",
      "psfMag_i      171965 non-null float64\n",
      "psfMag_z      171965 non-null float64\n",
      "fiberMag_u    171965 non-null float64\n",
      "fiberMag_g    171965 non-null float64\n",
      "fiberMag_r    171965 non-null float64\n",
      "fiberMag_i    171965 non-null float64\n",
      "fiberMag_z    171965 non-null float64\n",
      "petroMag_u    171965 non-null float64\n",
      "petroMag_g    171965 non-null float64\n",
      "petroMag_r    171965 non-null float64\n",
      "petroMag_i    171965 non-null float64\n",
      "petroMag_z    171965 non-null float64\n",
      "modelMag_u    171965 non-null float64\n",
      "modelMag_g    171965 non-null float64\n",
      "modelMag_r    171965 non-null float64\n",
      "modelMag_i    171965 non-null float64\n",
      "dtypes: float64(19), int64(1)\n",
      "memory usage: 26.2 MB\n"
     ]
    }
   ],
   "source": [
    "X=train.iloc[:,2:22]\n",
    "X.info()"
   ]
  },
  {
   "cell_type": "code",
   "execution_count": 34,
   "metadata": {},
   "outputs": [],
   "source": [
    "from sklearn.ensemble import IsolationForest\n",
    "clf = IsolationForest(max_samples=7000, random_state=1)\n",
    "clf.fit(X)\n",
    "y_pred_outliers = clf.predict(X)\n",
    "out = pd.DataFrame(y_pred_outliers)\n",
    "out = out.rename(columns={0: \"out\"})\n",
    "df1 = pd.concat([X, out], 1)"
   ]
  },
  {
   "cell_type": "code",
   "execution_count": 35,
   "metadata": {},
   "outputs": [
    {
     "data": {
      "text/html": [
       "<div>\n",
       "<style scoped>\n",
       "    .dataframe tbody tr th:only-of-type {\n",
       "        vertical-align: middle;\n",
       "    }\n",
       "\n",
       "    .dataframe tbody tr th {\n",
       "        vertical-align: top;\n",
       "    }\n",
       "\n",
       "    .dataframe thead th {\n",
       "        text-align: right;\n",
       "    }\n",
       "</style>\n",
       "<table border=\"1\" class=\"dataframe\">\n",
       "  <thead>\n",
       "    <tr style=\"text-align: right;\">\n",
       "      <th></th>\n",
       "      <th>type</th>\n",
       "      <th>fiberID</th>\n",
       "      <th>type_num</th>\n",
       "      <th>fiberID</th>\n",
       "      <th>psfMag_u</th>\n",
       "      <th>psfMag_g</th>\n",
       "      <th>psfMag_r</th>\n",
       "      <th>psfMag_i</th>\n",
       "      <th>psfMag_z</th>\n",
       "      <th>fiberMag_u</th>\n",
       "      <th>...</th>\n",
       "      <th>petroMag_u</th>\n",
       "      <th>petroMag_g</th>\n",
       "      <th>petroMag_r</th>\n",
       "      <th>petroMag_i</th>\n",
       "      <th>petroMag_z</th>\n",
       "      <th>modelMag_u</th>\n",
       "      <th>modelMag_g</th>\n",
       "      <th>modelMag_r</th>\n",
       "      <th>modelMag_i</th>\n",
       "      <th>out</th>\n",
       "    </tr>\n",
       "  </thead>\n",
       "  <tbody>\n",
       "    <tr>\n",
       "      <th>0</th>\n",
       "      <td>QSO</td>\n",
       "      <td>106</td>\n",
       "      <td>8</td>\n",
       "      <td>106</td>\n",
       "      <td>19.20636</td>\n",
       "      <td>18.83202</td>\n",
       "      <td>18.79017</td>\n",
       "      <td>18.36788</td>\n",
       "      <td>18.32136</td>\n",
       "      <td>19.33958</td>\n",
       "      <td>...</td>\n",
       "      <td>18.06469</td>\n",
       "      <td>17.18273</td>\n",
       "      <td>16.74307</td>\n",
       "      <td>16.39772</td>\n",
       "      <td>16.28030</td>\n",
       "      <td>17.60089</td>\n",
       "      <td>16.82960</td>\n",
       "      <td>16.46197</td>\n",
       "      <td>16.09962</td>\n",
       "      <td>1</td>\n",
       "    </tr>\n",
       "    <tr>\n",
       "      <th>1</th>\n",
       "      <td>QSO</td>\n",
       "      <td>492</td>\n",
       "      <td>8</td>\n",
       "      <td>492</td>\n",
       "      <td>18.85419</td>\n",
       "      <td>18.60349</td>\n",
       "      <td>18.48284</td>\n",
       "      <td>18.36558</td>\n",
       "      <td>18.41101</td>\n",
       "      <td>19.17574</td>\n",
       "      <td>...</td>\n",
       "      <td>18.90764</td>\n",
       "      <td>18.64323</td>\n",
       "      <td>18.49622</td>\n",
       "      <td>18.38058</td>\n",
       "      <td>18.47802</td>\n",
       "      <td>18.84907</td>\n",
       "      <td>18.59603</td>\n",
       "      <td>18.46161</td>\n",
       "      <td>18.34665</td>\n",
       "      <td>1</td>\n",
       "    </tr>\n",
       "    <tr>\n",
       "      <th>2</th>\n",
       "      <td>QSO</td>\n",
       "      <td>388</td>\n",
       "      <td>8</td>\n",
       "      <td>388</td>\n",
       "      <td>19.81733</td>\n",
       "      <td>18.67198</td>\n",
       "      <td>18.46566</td>\n",
       "      <td>18.33873</td>\n",
       "      <td>18.31073</td>\n",
       "      <td>20.17311</td>\n",
       "      <td>...</td>\n",
       "      <td>19.85916</td>\n",
       "      <td>18.70682</td>\n",
       "      <td>18.51968</td>\n",
       "      <td>18.37718</td>\n",
       "      <td>18.37598</td>\n",
       "      <td>19.81720</td>\n",
       "      <td>18.66244</td>\n",
       "      <td>18.45800</td>\n",
       "      <td>18.32918</td>\n",
       "      <td>1</td>\n",
       "    </tr>\n",
       "    <tr>\n",
       "      <th>3</th>\n",
       "      <td>QSO</td>\n",
       "      <td>531</td>\n",
       "      <td>8</td>\n",
       "      <td>531</td>\n",
       "      <td>21.77330</td>\n",
       "      <td>20.19641</td>\n",
       "      <td>20.08064</td>\n",
       "      <td>20.11380</td>\n",
       "      <td>19.83673</td>\n",
       "      <td>22.16908</td>\n",
       "      <td>...</td>\n",
       "      <td>21.38145</td>\n",
       "      <td>20.22594</td>\n",
       "      <td>20.13081</td>\n",
       "      <td>20.15601</td>\n",
       "      <td>20.04247</td>\n",
       "      <td>21.76902</td>\n",
       "      <td>20.18548</td>\n",
       "      <td>20.07931</td>\n",
       "      <td>20.10771</td>\n",
       "      <td>1</td>\n",
       "    </tr>\n",
       "    <tr>\n",
       "      <th>4</th>\n",
       "      <td>QSO</td>\n",
       "      <td>180</td>\n",
       "      <td>8</td>\n",
       "      <td>180</td>\n",
       "      <td>22.53572</td>\n",
       "      <td>20.07427</td>\n",
       "      <td>19.23110</td>\n",
       "      <td>18.94043</td>\n",
       "      <td>18.65541</td>\n",
       "      <td>22.82620</td>\n",
       "      <td>...</td>\n",
       "      <td>22.09349</td>\n",
       "      <td>20.14050</td>\n",
       "      <td>19.25699</td>\n",
       "      <td>18.98682</td>\n",
       "      <td>18.63438</td>\n",
       "      <td>22.58755</td>\n",
       "      <td>20.07051</td>\n",
       "      <td>19.21149</td>\n",
       "      <td>18.90649</td>\n",
       "      <td>1</td>\n",
       "    </tr>\n",
       "  </tbody>\n",
       "</table>\n",
       "<p>5 rows × 24 columns</p>\n",
       "</div>"
      ],
      "text/plain": [
       "  type  fiberID  type_num  fiberID  psfMag_u  psfMag_g  psfMag_r  psfMag_i  \\\n",
       "0  QSO      106         8      106  19.20636  18.83202  18.79017  18.36788   \n",
       "1  QSO      492         8      492  18.85419  18.60349  18.48284  18.36558   \n",
       "2  QSO      388         8      388  19.81733  18.67198  18.46566  18.33873   \n",
       "3  QSO      531         8      531  21.77330  20.19641  20.08064  20.11380   \n",
       "4  QSO      180         8      180  22.53572  20.07427  19.23110  18.94043   \n",
       "\n",
       "   psfMag_z  fiberMag_u ...   petroMag_u  petroMag_g  petroMag_r  petroMag_i  \\\n",
       "0  18.32136    19.33958 ...     18.06469    17.18273    16.74307    16.39772   \n",
       "1  18.41101    19.17574 ...     18.90764    18.64323    18.49622    18.38058   \n",
       "2  18.31073    20.17311 ...     19.85916    18.70682    18.51968    18.37718   \n",
       "3  19.83673    22.16908 ...     21.38145    20.22594    20.13081    20.15601   \n",
       "4  18.65541    22.82620 ...     22.09349    20.14050    19.25699    18.98682   \n",
       "\n",
       "   petroMag_z  modelMag_u  modelMag_g  modelMag_r  modelMag_i  out  \n",
       "0    16.28030    17.60089    16.82960    16.46197    16.09962    1  \n",
       "1    18.47802    18.84907    18.59603    18.46161    18.34665    1  \n",
       "2    18.37598    19.81720    18.66244    18.45800    18.32918    1  \n",
       "3    20.04247    21.76902    20.18548    20.07931    20.10771    1  \n",
       "4    18.63438    22.58755    20.07051    19.21149    18.90649    1  \n",
       "\n",
       "[5 rows x 24 columns]"
      ]
     },
     "execution_count": 35,
     "metadata": {},
     "output_type": "execute_result"
    }
   ],
   "source": [
    "df2=train[[\"type\",\"fiberID\",\"type_num\"]]\n",
    "df=pd.concat([df2,df1],axis=1)\n",
    "df.head()"
   ]
  },
  {
   "cell_type": "code",
   "execution_count": 36,
   "metadata": {},
   "outputs": [
    {
     "name": "stdout",
     "output_type": "stream",
     "text": [
      "<class 'pandas.core.frame.DataFrame'>\n",
      "Int64Index: 154768 entries, 0 to 171964\n",
      "Data columns (total 23 columns):\n",
      "type          154768 non-null object\n",
      "fiberID       154768 non-null int64\n",
      "type_num      154768 non-null int64\n",
      "fiberID       154768 non-null int64\n",
      "psfMag_u      154768 non-null float64\n",
      "psfMag_g      154768 non-null float64\n",
      "psfMag_r      154768 non-null float64\n",
      "psfMag_i      154768 non-null float64\n",
      "psfMag_z      154768 non-null float64\n",
      "fiberMag_u    154768 non-null float64\n",
      "fiberMag_g    154768 non-null float64\n",
      "fiberMag_r    154768 non-null float64\n",
      "fiberMag_i    154768 non-null float64\n",
      "fiberMag_z    154768 non-null float64\n",
      "petroMag_u    154768 non-null float64\n",
      "petroMag_g    154768 non-null float64\n",
      "petroMag_r    154768 non-null float64\n",
      "petroMag_i    154768 non-null float64\n",
      "petroMag_z    154768 non-null float64\n",
      "modelMag_u    154768 non-null float64\n",
      "modelMag_g    154768 non-null float64\n",
      "modelMag_r    154768 non-null float64\n",
      "modelMag_i    154768 non-null float64\n",
      "dtypes: float64(19), int64(3), object(1)\n",
      "memory usage: 28.3+ MB\n"
     ]
    }
   ],
   "source": [
    "# df=df[df.out !=-1]\n",
    "# train=df.drop(columns=['out'])\n",
    "train = df\n",
    "train.info()\n"
   ]
  },
  {
   "cell_type": "code",
   "execution_count": 18,
   "metadata": {},
   "outputs": [],
   "source": [
    "train_x = train.drop(columns=['type', 'type_num'], axis=1)\n",
    "train_y = train['type_num']\n",
    "test_x = test"
   ]
  },
  {
   "cell_type": "code",
   "execution_count": 19,
   "metadata": {},
   "outputs": [
    {
     "name": "stdout",
     "output_type": "stream",
     "text": [
      "RobustScaler(copy=True, quantile_range=(25.0, 75.0), with_centering=True,\n",
      "       with_scaling=True)\n"
     ]
    }
   ],
   "source": [
    "\n",
    "from sklearn.preprocessing import RobustScaler\n",
    "robustScaler = RobustScaler()\n",
    "print(robustScaler.fit(train_x))\n",
    "train_data_robustScaled = robustScaler.transform(train_x)"
   ]
  },
  {
   "cell_type": "code",
   "execution_count": 21,
   "metadata": {},
   "outputs": [
    {
     "data": {
      "text/plain": [
       "0.87326355236803"
      ]
     },
     "execution_count": 21,
     "metadata": {},
     "output_type": "execute_result"
    }
   ],
   "source": [
    "from lightgbm import LGBMClassifier\n",
    "lgbm_model = LGBMClassifier(boosting_type='gbdt', objective='multiclass', num_leaves=10,\n",
    "                                learning_rate=0.05, n_estimators=2000, max_depth=15,\n",
    "                                bagging_fraction=0.9, feature_fraction=0.9, reg_lambda=0.2, n_jobs=6)\n",
    "lgbm_model.fit(x_train,y_train)\n",
    "y_pred = lgbm_model.predict\n",
    "y_proba = lgbm_model.predict_proba(x_test)\n",
    "lgbm_model.score(x_test,y_test)"
   ]
  },
  {
   "cell_type": "code",
   "execution_count": 23,
   "metadata": {},
   "outputs": [
    {
     "ename": "ValueError",
     "evalue": "y_true and y_pred contain different number of classes 18, 19. Please provide the true labels explicitly through the labels argument. Classes found in y_true: [ 0  1  3  4  5  6  7  8  9 10 11 12 13 14 15 16 17 18]",
     "output_type": "error",
     "traceback": [
      "\u001b[0;31m---------------------------------------------------------------------------\u001b[0m",
      "\u001b[0;31mValueError\u001b[0m                                Traceback (most recent call last)",
      "\u001b[0;32m<ipython-input-23-e1342d8f08c3>\u001b[0m in \u001b[0;36m<module>\u001b[0;34m()\u001b[0m\n\u001b[1;32m      1\u001b[0m \u001b[0;32mfrom\u001b[0m \u001b[0msklearn\u001b[0m\u001b[0;34m.\u001b[0m\u001b[0mmetrics\u001b[0m \u001b[0;32mimport\u001b[0m \u001b[0mlog_loss\u001b[0m\u001b[0;34m\u001b[0m\u001b[0m\n\u001b[1;32m      2\u001b[0m \u001b[0;34m\u001b[0m\u001b[0m\n\u001b[0;32m----> 3\u001b[0;31m \u001b[0mlog_loss\u001b[0m\u001b[0;34m(\u001b[0m\u001b[0my_test\u001b[0m\u001b[0;34m,\u001b[0m \u001b[0my_proba\u001b[0m\u001b[0;34m)\u001b[0m\u001b[0;34m\u001b[0m\u001b[0m\n\u001b[0m",
      "\u001b[0;32m~/anaconda3/lib/python3.7/site-packages/sklearn/metrics/classification.py\u001b[0m in \u001b[0;36mlog_loss\u001b[0;34m(y_true, y_pred, eps, normalize, sample_weight, labels)\u001b[0m\n\u001b[1;32m   1684\u001b[0m                              \"y_true: {2}\".format(transformed_labels.shape[1],\n\u001b[1;32m   1685\u001b[0m                                                   \u001b[0my_pred\u001b[0m\u001b[0;34m.\u001b[0m\u001b[0mshape\u001b[0m\u001b[0;34m[\u001b[0m\u001b[0;36m1\u001b[0m\u001b[0;34m]\u001b[0m\u001b[0;34m,\u001b[0m\u001b[0;34m\u001b[0m\u001b[0m\n\u001b[0;32m-> 1686\u001b[0;31m                                                   lb.classes_))\n\u001b[0m\u001b[1;32m   1687\u001b[0m         \u001b[0;32melse\u001b[0m\u001b[0;34m:\u001b[0m\u001b[0;34m\u001b[0m\u001b[0m\n\u001b[1;32m   1688\u001b[0m             raise ValueError('The number of classes in labels is different '\n",
      "\u001b[0;31mValueError\u001b[0m: y_true and y_pred contain different number of classes 18, 19. Please provide the true labels explicitly through the labels argument. Classes found in y_true: [ 0  1  3  4  5  6  7  8  9 10 11 12 13 14 15 16 17 18]"
     ]
    }
   ],
   "source": [
    "y_pred = lgbm_model.predict_proba(test_x)"
   ]
  },
  {
   "cell_type": "code",
   "execution_count": null,
   "metadata": {},
   "outputs": [],
   "source": []
  }
 ],
 "metadata": {
  "kernelspec": {
   "display_name": "Python 3",
   "language": "python",
   "name": "python3"
  },
  "language_info": {
   "codemirror_mode": {
    "name": "ipython",
    "version": 3
   },
   "file_extension": ".py",
   "mimetype": "text/x-python",
   "name": "python",
   "nbconvert_exporter": "python",
   "pygments_lexer": "ipython3",
   "version": "3.7.0"
  }
 },
 "nbformat": 4,
 "nbformat_minor": 2
}
