{
 "cells": [
  {
   "cell_type": "code",
   "execution_count": 1,
   "metadata": {},
   "outputs": [],
   "source": [
    "import numpy as np\n",
    "import pandas as pd"
   ]
  },
  {
   "cell_type": "code",
   "execution_count": 2,
   "metadata": {},
   "outputs": [],
   "source": [
    "train = pd.read_csv('data/train.csv', index_col=0)\n",
    "test = pd.read_csv('data/test.csv', index_col=0)\n",
    "sample_submission = pd.read_csv('data/sample_submission.csv', index_col=0)"
   ]
  },
  {
   "cell_type": "code",
   "execution_count": 3,
   "metadata": {},
   "outputs": [],
   "source": [
    "column_number = {}\n",
    "for i, column in enumerate(sample_submission.columns):\n",
    "    column_number[column] = i\n",
    "    \n",
    "def to_number(x, dic):\n",
    "    return dic[x]\n",
    "\n",
    "train['type_num'] = train['type'].apply(lambda x: to_number(x, column_number))\n"
   ]
  },
  {
   "cell_type": "code",
   "execution_count": 4,
   "metadata": {},
   "outputs": [
    {
     "name": "stdout",
     "output_type": "stream",
     "text": [
      "<class 'pandas.core.frame.DataFrame'>\n",
      "Int64Index: 199991 entries, 0 to 199990\n",
      "Data columns (total 23 columns):\n",
      "type          199991 non-null object\n",
      "fiberID       199991 non-null int64\n",
      "psfMag_u      199991 non-null float64\n",
      "psfMag_g      199991 non-null float64\n",
      "psfMag_r      199991 non-null float64\n",
      "psfMag_i      199991 non-null float64\n",
      "psfMag_z      199991 non-null float64\n",
      "fiberMag_u    199991 non-null float64\n",
      "fiberMag_g    199991 non-null float64\n",
      "fiberMag_r    199991 non-null float64\n",
      "fiberMag_i    199991 non-null float64\n",
      "fiberMag_z    199991 non-null float64\n",
      "petroMag_u    199991 non-null float64\n",
      "petroMag_g    199991 non-null float64\n",
      "petroMag_r    199991 non-null float64\n",
      "petroMag_i    199991 non-null float64\n",
      "petroMag_z    199991 non-null float64\n",
      "modelMag_u    199991 non-null float64\n",
      "modelMag_g    199991 non-null float64\n",
      "modelMag_r    199991 non-null float64\n",
      "modelMag_i    199991 non-null float64\n",
      "modelMag_z    199991 non-null float64\n",
      "type_num      199991 non-null int64\n",
      "dtypes: float64(20), int64(2), object(1)\n",
      "memory usage: 36.6+ MB\n"
     ]
    }
   ],
   "source": [
    "train.info()"
   ]
  },
  {
   "cell_type": "code",
   "execution_count": 5,
   "metadata": {},
   "outputs": [
    {
     "name": "stdout",
     "output_type": "stream",
     "text": [
      "<class 'pandas.core.frame.DataFrame'>\n",
      "Int64Index: 199991 entries, 0 to 199990\n",
      "Data columns (total 20 columns):\n",
      "psfMag_u      199991 non-null float64\n",
      "psfMag_g      199991 non-null float64\n",
      "psfMag_r      199991 non-null float64\n",
      "psfMag_i      199991 non-null float64\n",
      "psfMag_z      199991 non-null float64\n",
      "fiberMag_u    199991 non-null float64\n",
      "fiberMag_g    199991 non-null float64\n",
      "fiberMag_r    199991 non-null float64\n",
      "fiberMag_i    199991 non-null float64\n",
      "fiberMag_z    199991 non-null float64\n",
      "petroMag_u    199991 non-null float64\n",
      "petroMag_g    199991 non-null float64\n",
      "petroMag_r    199991 non-null float64\n",
      "petroMag_i    199991 non-null float64\n",
      "petroMag_z    199991 non-null float64\n",
      "modelMag_u    199991 non-null float64\n",
      "modelMag_g    199991 non-null float64\n",
      "modelMag_r    199991 non-null float64\n",
      "modelMag_i    199991 non-null float64\n",
      "modelMag_z    199991 non-null float64\n",
      "dtypes: float64(20)\n",
      "memory usage: 32.0 MB\n"
     ]
    }
   ],
   "source": [
    "X=train.iloc[:,2:22]\n",
    "X.info()"
   ]
  },
  {
   "cell_type": "code",
   "execution_count": 6,
   "metadata": {},
   "outputs": [],
   "source": [
    "\n",
    "from sklearn.ensemble import IsolationForest\n",
    "clf = IsolationForest(max_samples=7000, random_state=1)\n",
    "clf.fit(X)\n",
    "y_pred_outliers = clf.predict(X)\n",
    "out = pd.DataFrame(y_pred_outliers)\n",
    "out = out.rename(columns={0: \"out\"})\n",
    "df1 = pd.concat([X, out], 1)\n"
   ]
  },
  {
   "cell_type": "code",
   "execution_count": 7,
   "metadata": {
    "scrolled": false
   },
   "outputs": [
    {
     "name": "stdout",
     "output_type": "stream",
     "text": [
      "<class 'pandas.core.frame.DataFrame'>\n",
      "Int64Index: 199991 entries, 0 to 199990\n",
      "Data columns (total 21 columns):\n",
      "psfMag_u      199991 non-null float64\n",
      "psfMag_g      199991 non-null float64\n",
      "psfMag_r      199991 non-null float64\n",
      "psfMag_i      199991 non-null float64\n",
      "psfMag_z      199991 non-null float64\n",
      "fiberMag_u    199991 non-null float64\n",
      "fiberMag_g    199991 non-null float64\n",
      "fiberMag_r    199991 non-null float64\n",
      "fiberMag_i    199991 non-null float64\n",
      "fiberMag_z    199991 non-null float64\n",
      "petroMag_u    199991 non-null float64\n",
      "petroMag_g    199991 non-null float64\n",
      "petroMag_r    199991 non-null float64\n",
      "petroMag_i    199991 non-null float64\n",
      "petroMag_z    199991 non-null float64\n",
      "modelMag_u    199991 non-null float64\n",
      "modelMag_g    199991 non-null float64\n",
      "modelMag_r    199991 non-null float64\n",
      "modelMag_i    199991 non-null float64\n",
      "modelMag_z    199991 non-null float64\n",
      "out           199991 non-null int64\n",
      "dtypes: float64(20), int64(1)\n",
      "memory usage: 33.6 MB\n"
     ]
    }
   ],
   "source": [
    "df1.info()"
   ]
  },
  {
   "cell_type": "code",
   "execution_count": 8,
   "metadata": {
    "scrolled": true
   },
   "outputs": [
    {
     "data": {
      "text/html": [
       "<div>\n",
       "<style scoped>\n",
       "    .dataframe tbody tr th:only-of-type {\n",
       "        vertical-align: middle;\n",
       "    }\n",
       "\n",
       "    .dataframe tbody tr th {\n",
       "        vertical-align: top;\n",
       "    }\n",
       "\n",
       "    .dataframe thead th {\n",
       "        text-align: right;\n",
       "    }\n",
       "</style>\n",
       "<table border=\"1\" class=\"dataframe\">\n",
       "  <thead>\n",
       "    <tr style=\"text-align: right;\">\n",
       "      <th></th>\n",
       "      <th>type</th>\n",
       "      <th>fiberID</th>\n",
       "      <th>type_num</th>\n",
       "      <th>psfMag_u</th>\n",
       "      <th>psfMag_g</th>\n",
       "      <th>psfMag_r</th>\n",
       "      <th>psfMag_i</th>\n",
       "      <th>psfMag_z</th>\n",
       "      <th>fiberMag_u</th>\n",
       "      <th>fiberMag_g</th>\n",
       "      <th>...</th>\n",
       "      <th>petroMag_g</th>\n",
       "      <th>petroMag_r</th>\n",
       "      <th>petroMag_i</th>\n",
       "      <th>petroMag_z</th>\n",
       "      <th>modelMag_u</th>\n",
       "      <th>modelMag_g</th>\n",
       "      <th>modelMag_r</th>\n",
       "      <th>modelMag_i</th>\n",
       "      <th>modelMag_z</th>\n",
       "      <th>out</th>\n",
       "    </tr>\n",
       "    <tr>\n",
       "      <th>id</th>\n",
       "      <th></th>\n",
       "      <th></th>\n",
       "      <th></th>\n",
       "      <th></th>\n",
       "      <th></th>\n",
       "      <th></th>\n",
       "      <th></th>\n",
       "      <th></th>\n",
       "      <th></th>\n",
       "      <th></th>\n",
       "      <th></th>\n",
       "      <th></th>\n",
       "      <th></th>\n",
       "      <th></th>\n",
       "      <th></th>\n",
       "      <th></th>\n",
       "      <th></th>\n",
       "      <th></th>\n",
       "      <th></th>\n",
       "      <th></th>\n",
       "      <th></th>\n",
       "    </tr>\n",
       "  </thead>\n",
       "  <tbody>\n",
       "    <tr>\n",
       "      <th>0</th>\n",
       "      <td>QSO</td>\n",
       "      <td>601</td>\n",
       "      <td>8</td>\n",
       "      <td>23.198224</td>\n",
       "      <td>21.431953</td>\n",
       "      <td>21.314148</td>\n",
       "      <td>21.176553</td>\n",
       "      <td>21.171444</td>\n",
       "      <td>22.581309</td>\n",
       "      <td>21.644453</td>\n",
       "      <td>...</td>\n",
       "      <td>21.431636</td>\n",
       "      <td>21.478312</td>\n",
       "      <td>21.145409</td>\n",
       "      <td>20.422446</td>\n",
       "      <td>22.749241</td>\n",
       "      <td>21.465534</td>\n",
       "      <td>21.364187</td>\n",
       "      <td>21.020605</td>\n",
       "      <td>21.147340</td>\n",
       "      <td>1</td>\n",
       "    </tr>\n",
       "    <tr>\n",
       "      <th>1</th>\n",
       "      <td>QSO</td>\n",
       "      <td>788</td>\n",
       "      <td>8</td>\n",
       "      <td>21.431355</td>\n",
       "      <td>20.708104</td>\n",
       "      <td>20.678850</td>\n",
       "      <td>20.703420</td>\n",
       "      <td>20.473229</td>\n",
       "      <td>21.868797</td>\n",
       "      <td>21.029773</td>\n",
       "      <td>...</td>\n",
       "      <td>20.778968</td>\n",
       "      <td>20.889705</td>\n",
       "      <td>20.639812</td>\n",
       "      <td>20.646660</td>\n",
       "      <td>21.492955</td>\n",
       "      <td>20.758527</td>\n",
       "      <td>20.753925</td>\n",
       "      <td>20.693389</td>\n",
       "      <td>20.512314</td>\n",
       "      <td>1</td>\n",
       "    </tr>\n",
       "    <tr>\n",
       "      <th>2</th>\n",
       "      <td>QSO</td>\n",
       "      <td>427</td>\n",
       "      <td>8</td>\n",
       "      <td>17.851451</td>\n",
       "      <td>16.727898</td>\n",
       "      <td>16.679677</td>\n",
       "      <td>16.694640</td>\n",
       "      <td>16.641788</td>\n",
       "      <td>18.171890</td>\n",
       "      <td>17.033098</td>\n",
       "      <td>...</td>\n",
       "      <td>16.738784</td>\n",
       "      <td>16.688874</td>\n",
       "      <td>16.744210</td>\n",
       "      <td>16.808006</td>\n",
       "      <td>17.818063</td>\n",
       "      <td>16.697434</td>\n",
       "      <td>16.641249</td>\n",
       "      <td>16.660177</td>\n",
       "      <td>16.688928</td>\n",
       "      <td>1</td>\n",
       "    </tr>\n",
       "    <tr>\n",
       "      <th>3</th>\n",
       "      <td>QSO</td>\n",
       "      <td>864</td>\n",
       "      <td>8</td>\n",
       "      <td>20.789900</td>\n",
       "      <td>20.040371</td>\n",
       "      <td>19.926909</td>\n",
       "      <td>19.843840</td>\n",
       "      <td>19.463270</td>\n",
       "      <td>21.039030</td>\n",
       "      <td>20.317165</td>\n",
       "      <td>...</td>\n",
       "      <td>19.993727</td>\n",
       "      <td>19.985531</td>\n",
       "      <td>19.750917</td>\n",
       "      <td>19.455117</td>\n",
       "      <td>20.770711</td>\n",
       "      <td>20.001699</td>\n",
       "      <td>19.889798</td>\n",
       "      <td>19.758113</td>\n",
       "      <td>19.552855</td>\n",
       "      <td>1</td>\n",
       "    </tr>\n",
       "    <tr>\n",
       "      <th>4</th>\n",
       "      <td>STAR_RED_DWARF</td>\n",
       "      <td>612</td>\n",
       "      <td>10</td>\n",
       "      <td>26.454969</td>\n",
       "      <td>23.058767</td>\n",
       "      <td>21.471406</td>\n",
       "      <td>19.504961</td>\n",
       "      <td>18.389096</td>\n",
       "      <td>25.700632</td>\n",
       "      <td>23.629122</td>\n",
       "      <td>...</td>\n",
       "      <td>22.426929</td>\n",
       "      <td>21.673551</td>\n",
       "      <td>19.610012</td>\n",
       "      <td>18.376141</td>\n",
       "      <td>24.877052</td>\n",
       "      <td>23.147993</td>\n",
       "      <td>21.475342</td>\n",
       "      <td>19.487330</td>\n",
       "      <td>18.375655</td>\n",
       "      <td>1</td>\n",
       "    </tr>\n",
       "  </tbody>\n",
       "</table>\n",
       "<p>5 rows × 24 columns</p>\n",
       "</div>"
      ],
      "text/plain": [
       "              type  fiberID  type_num   psfMag_u   psfMag_g   psfMag_r  \\\n",
       "id                                                                       \n",
       "0              QSO      601         8  23.198224  21.431953  21.314148   \n",
       "1              QSO      788         8  21.431355  20.708104  20.678850   \n",
       "2              QSO      427         8  17.851451  16.727898  16.679677   \n",
       "3              QSO      864         8  20.789900  20.040371  19.926909   \n",
       "4   STAR_RED_DWARF      612        10  26.454969  23.058767  21.471406   \n",
       "\n",
       "     psfMag_i   psfMag_z  fiberMag_u  fiberMag_g ...   petroMag_g  petroMag_r  \\\n",
       "id                                               ...                            \n",
       "0   21.176553  21.171444   22.581309   21.644453 ...    21.431636   21.478312   \n",
       "1   20.703420  20.473229   21.868797   21.029773 ...    20.778968   20.889705   \n",
       "2   16.694640  16.641788   18.171890   17.033098 ...    16.738784   16.688874   \n",
       "3   19.843840  19.463270   21.039030   20.317165 ...    19.993727   19.985531   \n",
       "4   19.504961  18.389096   25.700632   23.629122 ...    22.426929   21.673551   \n",
       "\n",
       "    petroMag_i  petroMag_z  modelMag_u  modelMag_g  modelMag_r  modelMag_i  \\\n",
       "id                                                                           \n",
       "0    21.145409   20.422446   22.749241   21.465534   21.364187   21.020605   \n",
       "1    20.639812   20.646660   21.492955   20.758527   20.753925   20.693389   \n",
       "2    16.744210   16.808006   17.818063   16.697434   16.641249   16.660177   \n",
       "3    19.750917   19.455117   20.770711   20.001699   19.889798   19.758113   \n",
       "4    19.610012   18.376141   24.877052   23.147993   21.475342   19.487330   \n",
       "\n",
       "    modelMag_z  out  \n",
       "id                   \n",
       "0    21.147340    1  \n",
       "1    20.512314    1  \n",
       "2    16.688928    1  \n",
       "3    19.552855    1  \n",
       "4    18.375655    1  \n",
       "\n",
       "[5 rows x 24 columns]"
      ]
     },
     "execution_count": 8,
     "metadata": {},
     "output_type": "execute_result"
    }
   ],
   "source": [
    "df2=train[[\"type\",\"fiberID\",\"type_num\"]]\n",
    "df=pd.concat([df2,df1],axis=1)\n",
    "df.head()"
   ]
  },
  {
   "cell_type": "code",
   "execution_count": 9,
   "metadata": {
    "scrolled": true
   },
   "outputs": [
    {
     "name": "stdout",
     "output_type": "stream",
     "text": [
      "<class 'pandas.core.frame.DataFrame'>\n",
      "Int64Index: 198497 entries, 0 to 199990\n",
      "Data columns (total 23 columns):\n",
      "type          198497 non-null object\n",
      "fiberID       198497 non-null int64\n",
      "type_num      198497 non-null int64\n",
      "psfMag_u      198497 non-null float64\n",
      "psfMag_g      198497 non-null float64\n",
      "psfMag_r      198497 non-null float64\n",
      "psfMag_i      198497 non-null float64\n",
      "psfMag_z      198497 non-null float64\n",
      "fiberMag_u    198497 non-null float64\n",
      "fiberMag_g    198497 non-null float64\n",
      "fiberMag_r    198497 non-null float64\n",
      "fiberMag_i    198497 non-null float64\n",
      "fiberMag_z    198497 non-null float64\n",
      "petroMag_u    198497 non-null float64\n",
      "petroMag_g    198497 non-null float64\n",
      "petroMag_r    198497 non-null float64\n",
      "petroMag_i    198497 non-null float64\n",
      "petroMag_z    198497 non-null float64\n",
      "modelMag_u    198497 non-null float64\n",
      "modelMag_g    198497 non-null float64\n",
      "modelMag_r    198497 non-null float64\n",
      "modelMag_i    198497 non-null float64\n",
      "modelMag_z    198497 non-null float64\n",
      "dtypes: float64(20), int64(2), object(1)\n",
      "memory usage: 36.3+ MB\n"
     ]
    }
   ],
   "source": [
    "df=df[df.out !=-1]\n",
    "train=df.drop(columns=['out'])\n",
    "train.info()"
   ]
  },
  {
   "cell_type": "code",
   "execution_count": 10,
   "metadata": {},
   "outputs": [],
   "source": [
    "train_x = train.drop(columns=['type', 'type_num'], axis=1)\n",
    "train_y = train['type_num']\n",
    "test_x = test"
   ]
  },
  {
   "cell_type": "code",
   "execution_count": 11,
   "metadata": {},
   "outputs": [
    {
     "name": "stdout",
     "output_type": "stream",
     "text": [
      "RobustScaler(copy=True, quantile_range=(25.0, 75.0), with_centering=True,\n",
      "             with_scaling=True)\n"
     ]
    }
   ],
   "source": [
    "from sklearn.preprocessing import RobustScaler\n",
    "robustScaler = RobustScaler()\n",
    "print(robustScaler.fit(train_x))\n",
    "train_data_robustScaled = robustScaler.transform(train_x)"
   ]
  },
  {
   "cell_type": "code",
   "execution_count": 12,
   "metadata": {},
   "outputs": [],
   "source": [
    "from sklearn.model_selection import train_test_split\n",
    "\n",
    "X = train_x\n",
    "y = train_y\n",
    "\n",
    "x_train, x_test, y_train, y_test = train_test_split(X,y,test_size=0.2)"
   ]
  },
  {
   "cell_type": "code",
   "execution_count": 13,
   "metadata": {},
   "outputs": [
    {
     "data": {
      "text/plain": [
       "0.8780100755667506"
      ]
     },
     "execution_count": 13,
     "metadata": {},
     "output_type": "execute_result"
    }
   ],
   "source": [
    "from lightgbm import LGBMClassifier\n",
    "lgbm_model = LGBMClassifier(boosting_type='gbdt', objective='multiclass', num_leaves=10,\n",
    "                                learning_rate=0.05, n_estimators=2000, max_depth=15,\n",
    "                                bagging_fraction=0.9, feature_fraction=0.9, reg_lambda=0.2, n_jobs=6)\n",
    "lgbm_model.fit(x_train,y_train)\n",
    "y_pred = lgbm_model.predict\n",
    "y_proba = lgbm_model.predict_proba(x_test)\n",
    "lgbm_model.score(x_test,y_test)"
   ]
  },
  {
   "cell_type": "code",
   "execution_count": 14,
   "metadata": {},
   "outputs": [
    {
     "data": {
      "text/plain": [
       "0.3670750676359075"
      ]
     },
     "execution_count": 14,
     "metadata": {},
     "output_type": "execute_result"
    }
   ],
   "source": [
    "from sklearn.metrics import log_loss\n",
    "\n",
    "log_loss(y_test, y_proba)"
   ]
  },
  {
   "cell_type": "code",
   "execution_count": null,
   "metadata": {},
   "outputs": [],
   "source": []
  }
 ],
 "metadata": {
  "kernelspec": {
   "display_name": "Python 3",
   "language": "python",
   "name": "python3"
  },
  "language_info": {
   "codemirror_mode": {
    "name": "ipython",
    "version": 3
   },
   "file_extension": ".py",
   "mimetype": "text/x-python",
   "name": "python",
   "nbconvert_exporter": "python",
   "pygments_lexer": "ipython3",
   "version": "3.7.0"
  }
 },
 "nbformat": 4,
 "nbformat_minor": 2
}
