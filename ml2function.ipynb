{
 "cells": [
  {
   "cell_type": "code",
   "execution_count": null,
   "metadata": {},
   "outputs": [],
   "source": [
    "import pandas as pd\n",
    "import numpy as np"
   ]
  },
  {
   "cell_type": "code",
   "execution_count": null,
   "metadata": {},
   "outputs": [],
   "source": [
    "from sklearn.model_selection import train_test_split\n",
    "from sklearn.linear_model import Lasso, Ridge\n",
    "\n",
    "x_train, x_test, y_train, y_test = train_test_split(x, y, random_state=0, test_size=0.3)\n",
    "\n",
    "lasso = Lasso().fit(x_train, y_train)\n",
    "\n",
    "print('{:.3f}'.format(lasso.score(x_train, y_train)))\n",
    "print('{:.3f}'.format(lasso.score(x_test, y_test)))"
   ]
  },
  {
   "cell_type": "code",
   "execution_count": null,
   "metadata": {},
   "outputs": [],
   "source": [
    "orb_type = [\n",
    "    \"GALAXY\",\n",
    "    \"QSO\",\n",
    "    \"REDDEN_STD\",\n",
    "    \"ROSAT_D\",\n",
    "    \"SERENDIPITY_BLUE\",\n",
    "    \"SERENDIPITY_DISTANT\",\n",
    "    \"SERENDIPITY_FIRST\",\n",
    "    \"SERENDIPITY_MANUAL\",\n",
    "    \"SERENDIPITY_RED\",\n",
    "    \"SKY\",\n",
    "    \"SPECTROPHOTO_STD\",\n",
    "    \"STAR_BHB\",\n",
    "    \"STAR_BROWN_DWARF\",\n",
    "    \"STAR_CARBON\",\n",
    "    \"STAR_CATY_VAR\",\n",
    "    \"STAR_PN\",\n",
    "    \"STAR_RED_DWARF\",\n",
    "    \"STAR_SUB_DWARF\",\n",
    "    \"STAR_WHITE_DWARF\"\n",
    "]\n",
    "def sampling(df, orb_type): #df : 데이터프레임, orb_type : 천체타입 리스트\n",
    "    copy_train = df.copy()\n",
    "    for t in orb_type:\n",
    "        print(\"현재 type : \", t)\n",
    "        insert_row = int(input(\"랜덤샘플링으로 추가할 개수를 입력하세요 : \"))\n",
    "        print(\"\\n\")\n",
    "        temp = df[df[\"type\"]==t].sample(n = insert_row, replace=True)  #t는 tpye의 종류, replace = True 옵션을 줘야 개수가 더 많아도 샘플링 가능\n",
    "        copy_train = pd.concat([copy_train, temp], axis = 0) #row로 붙여넣기\n",
    "    return copy_train"
   ]
  }
 ],
 "metadata": {
  "kernelspec": {
   "display_name": "Python 3",
   "language": "python",
   "name": "python3"
  },
  "language_info": {
   "codemirror_mode": {
    "name": "ipython",
    "version": 3
   },
   "file_extension": ".py",
   "mimetype": "text/x-python",
   "name": "python",
   "nbconvert_exporter": "python",
   "pygments_lexer": "ipython3",
   "version": "3.7.0"
  }
 },
 "nbformat": 4,
 "nbformat_minor": 2
}
